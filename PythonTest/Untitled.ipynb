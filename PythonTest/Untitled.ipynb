{
 "cells": [
  {
   "cell_type": "code",
   "execution_count": 1,
   "metadata": {},
   "outputs": [],
   "source": [
    "import numpy as np"
   ]
  },
  {
   "cell_type": "code",
   "execution_count": 2,
   "metadata": {},
   "outputs": [],
   "source": [
    "def get_im2col_indices(x_shape, field_height=3, field_width=3, padding=1, stride=1):\n",
    "    # First figure out what the size of the output should be\n",
    "    N, C, H, W = x_shape\n",
    "    assert (H + 2 * padding - field_height) % stride == 0\n",
    "    assert (W + 2 * padding - field_height) % stride == 0\n",
    "    out_height = (H + 2 * padding - field_height) / stride + 1\n",
    "    out_width = (W + 2 * padding - field_width) / stride + 1\n",
    "    print(out_height)\n",
    "    print(out_width)\n",
    "    i0 = np.repeat(np.arange(field_height,dtype='int32'), field_width)\n",
    "    i0 = np.tile(i0, C)\n",
    "    i1 = stride * np.repeat(np.arange(out_height,dtype='int32'), out_width)\n",
    "    j0 = np.tile(np.arange(field_width), field_height * C)\n",
    "    j1 = stride * np.tile(np.arange(out_width,dtype='int32'), int(out_height))\n",
    "    i = i0.reshape(-1, 1) + i1.reshape(1, -1)\n",
    "    j = j0.reshape(-1, 1) + j1.reshape(1, -1)\n",
    "\n",
    "    k = np.repeat(np.arange(C,dtype='int32'), field_height * field_width).reshape(-1, 1)\n",
    "\n",
    "    return (k, i, j)"
   ]
  },
  {
   "cell_type": "code",
   "execution_count": 3,
   "metadata": {},
   "outputs": [],
   "source": [
    "def im2col_indices(x, field_height=3, field_width=3, padding=1, stride=1):\n",
    "    \"\"\" An implementation of im2col based on some fancy indexing \"\"\"\n",
    "    # Zero-pad the input\n",
    "    p = padding\n",
    "    x_padded = np.pad(x, ((0, 0), (0, 0), (p, p), (p, p)), mode='constant')\n",
    "\n",
    "    k, i, j = get_im2col_indices(x.shape, field_height, field_width, padding,\n",
    "                               stride)\n",
    "\n",
    "    cols = x_padded[:, k, i, j]\n",
    "    C = x.shape[1]\n",
    "    cols = cols.transpose(1, 2, 0).reshape(field_height * field_width * C, -1)\n",
    "    return cols"
   ]
  },
  {
   "cell_type": "code",
   "execution_count": 4,
   "metadata": {},
   "outputs": [],
   "source": [
    "def col2im_indices(cols, x_shape, field_height=3, field_width=3, padding=1,\n",
    "                   stride=1):\n",
    "    \"\"\" An implementation of col2im based on fancy indexing and np.add.at \"\"\"\n",
    "    N, C, H, W = x_shape\n",
    "    H_padded, W_padded = H + 2 * padding, W + 2 * padding\n",
    "\n",
    "    x_padded = np.zeros((N, C, H_padded, W_padded), dtype=cols.dtype)\n",
    "    k, i, j = get_im2col_indices(x_shape, field_height, field_width, padding,\n",
    "                               stride)\n",
    "    cols_reshaped = cols.reshape(C * field_height * field_width, -1, N)\n",
    "    cols_reshaped = cols_reshaped.transpose(2, 0, 1)\n",
    "    np.add.at(x_padded, (slice(None), k, i, j), cols_reshaped)\n",
    "    if padding == 0:\n",
    "        return x_padded\n",
    "    return x_padded[:, :, padding:-padding, padding:-padding]"
   ]
  },
  {
   "cell_type": "code",
   "execution_count": 5,
   "metadata": {},
   "outputs": [
    {
     "name": "stdout",
     "output_type": "stream",
     "text": [
      "3.0\n",
      "3.0\n",
      "[[0 0 0 0 0 0 0 0 1 1 2 2 0 0 4 4 5 5]\n",
      " [0 0 0 0 0 0 1 1 2 2 3 3 4 4 5 5 6 6]\n",
      " [0 0 0 0 0 0 2 2 3 3 0 0 5 5 6 6 0 0]\n",
      " [0 0 1 1 2 2 0 0 4 4 5 5 0 0 7 7 8 8]\n",
      " [1 1 2 2 3 3 4 4 5 5 6 6 7 7 8 8 9 9]\n",
      " [2 2 3 3 0 0 5 5 6 6 0 0 8 8 9 9 0 0]\n",
      " [0 0 4 4 5 5 0 0 7 7 8 8 0 0 0 0 0 0]\n",
      " [4 4 5 5 6 6 7 7 8 8 9 9 0 0 0 0 0 0]\n",
      " [5 5 6 6 0 0 8 8 9 9 0 0 0 0 0 0 0 0]\n",
      " [0 0 0 0 0 0 0 0 9 9 8 8 0 0 6 6 5 5]\n",
      " [0 0 0 0 0 0 9 9 8 8 7 7 6 6 5 5 4 4]\n",
      " [0 0 0 0 0 0 8 8 7 7 0 0 5 5 4 4 0 0]\n",
      " [0 0 9 9 8 8 0 0 6 6 5 5 0 0 3 3 2 2]\n",
      " [9 9 8 8 7 7 6 6 5 5 4 4 3 3 2 2 1 1]\n",
      " [8 8 7 7 0 0 5 5 4 4 0 0 2 2 1 1 0 0]\n",
      " [0 0 6 6 5 5 0 0 3 3 2 2 0 0 0 0 0 0]\n",
      " [6 6 5 5 4 4 3 3 2 2 1 1 0 0 0 0 0 0]\n",
      " [5 5 4 4 0 0 2 2 1 1 0 0 0 0 0 0 0 0]]\n",
      "3.0\n",
      "3.0\n",
      "[[[[ 4 12 12]\n",
      "   [24 45 36]\n",
      "   [28 48 36]]\n",
      "\n",
      "  [[36 48 28]\n",
      "   [36 45 24]\n",
      "   [12 12  4]]]\n",
      "\n",
      "\n",
      " [[[ 4 12 12]\n",
      "   [24 45 36]\n",
      "   [28 48 36]]\n",
      "\n",
      "  [[36 48 28]\n",
      "   [36 45 24]\n",
      "   [12 12  4]]]]\n"
     ]
    }
   ],
   "source": [
    "x = np.array([1,2,3,4,5,6,7,8,9,9,8,7,6,5,4,3,2,1,1,2,3,4,5,6,7,8,9,9,8,7,6,5,4,3,2,1])\n",
    "x = x.reshape(2,2,3,3)\n",
    "cols = im2col_indices(x)\n",
    "print(cols)\n",
    "\n",
    "im = col2im_indices(cols, x.shape)\n",
    "print(im)"
   ]
  },
  {
   "cell_type": "code",
   "execution_count": 6,
   "metadata": {},
   "outputs": [],
   "source": [
    "def conv_forward(X, W, b, stride=1, padding=1):\n",
    "    cache = W, b, stride, padding\n",
    "    n_filters, d_filter, h_filter, w_filter = W.shape\n",
    "    n_x, d_x, h_x, w_x = X.shape\n",
    "    h_out = (h_x - h_filter + 2 * padding) / stride + 1\n",
    "    w_out = (w_x - w_filter + 2 * padding) / stride + 1\n",
    "\n",
    "    if not h_out.is_integer() or not w_out.is_integer():\n",
    "        raise Exception('Invalid output dimension!')\n",
    "\n",
    "    h_out, w_out = int(h_out), int(w_out)\n",
    "\n",
    "    X_col = im2col_indices(X, h_filter, w_filter, padding=padding, stride=stride)\n",
    "    W_col = W.reshape(n_filters, -1)\n",
    "\n",
    "    out = W_col @ X_col + b\n",
    "    out = out.reshape(n_filters, h_out, w_out, n_x)\n",
    "    out = out.transpose(3, 0, 1, 2)\n",
    "\n",
    "    cache = (X, W, b, stride, padding, X_col)\n",
    "\n",
    "    return out, cache\n",
    "\n",
    "\n",
    "def conv_backward(dout, cache):\n",
    "    X, W, b, stride, padding, X_col = cache\n",
    "    n_filter, d_filter, h_filter, w_filter = W.shape\n",
    "\n",
    "    db = np.sum(dout, axis=(0, 2, 3))\n",
    "    db = db.reshape(n_filter, -1)\n",
    "\n",
    "    dout_reshaped = dout.transpose(1, 2, 3, 0).reshape(n_filter, -1)\n",
    "    dW = dout_reshaped @ X_col.T\n",
    "    dW = dW.reshape(W.shape)\n",
    "\n",
    "    W_reshape = W.reshape(n_filter, -1)\n",
    "    dX_col = W_reshape.T @ dout_reshaped\n",
    "    dX = col2im_indices(dX_col, X.shape, h_filter, w_filter, padding=padding, stride=stride)\n",
    "\n",
    "    return dX, dW, db"
   ]
  },
  {
   "cell_type": "code",
   "execution_count": null,
   "metadata": {},
   "outputs": [],
   "source": [
    "(out, cache)= conv_forward(x, )"
   ]
  }
 ],
 "metadata": {
  "kernelspec": {
   "display_name": "Python 3",
   "language": "python",
   "name": "python3"
  },
  "language_info": {
   "codemirror_mode": {
    "name": "ipython",
    "version": 3
   },
   "file_extension": ".py",
   "mimetype": "text/x-python",
   "name": "python",
   "nbconvert_exporter": "python",
   "pygments_lexer": "ipython3",
   "version": "3.6.8"
  }
 },
 "nbformat": 4,
 "nbformat_minor": 2
}
