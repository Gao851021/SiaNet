{
 "cells": [
  {
   "cell_type": "code",
   "execution_count": 1,
   "metadata": {},
   "outputs": [],
   "source": [
    "import numpy as np"
   ]
  },
  {
   "cell_type": "code",
   "execution_count": 15,
   "metadata": {},
   "outputs": [
    {
     "name": "stdout",
     "output_type": "stream",
     "text": [
      "[[[1 2 3]\n",
      "  [4 5 6]\n",
      "  [7 8 9]]\n",
      "\n",
      " [[1 2 3]\n",
      "  [4 5 6]\n",
      "  [7 8 9]]]\n"
     ]
    }
   ],
   "source": [
    "x = np.array([1,2,3,4,5,6,7,8,9,1,2,3,4,5,6,7,8,9])\n",
    "x = x.reshape(2,3,3)\n",
    "print(x)\n"
   ]
  },
  {
   "cell_type": "code",
   "execution_count": 3,
   "metadata": {},
   "outputs": [],
   "source": [
    "field_height=3\n",
    "padding=1\n",
    "stride=1"
   ]
  },
  {
   "cell_type": "code",
   "execution_count": 4,
   "metadata": {},
   "outputs": [
    {
     "name": "stdout",
     "output_type": "stream",
     "text": [
      "[[[0 1 2 3 0]\n",
      "  [0 4 5 6 0]\n",
      "  [0 7 8 9 0]]\n",
      "\n",
      " [[0 1 2 3 0]\n",
      "  [0 4 5 6 0]\n",
      "  [0 7 8 9 0]]]\n"
     ]
    }
   ],
   "source": [
    "p = padding\n",
    "x_padded = np.pad(x, ((0, 0), (0,0), (p, p)), mode='constant')\n",
    "print(x_padded)"
   ]
  },
  {
   "cell_type": "code",
   "execution_count": 5,
   "metadata": {},
   "outputs": [],
   "source": [
    "N, C, H = x.shape\n",
    "assert (H + 2 * padding - field_height) % stride == 0\n"
   ]
  },
  {
   "cell_type": "code",
   "execution_count": 6,
   "metadata": {},
   "outputs": [
    {
     "name": "stdout",
     "output_type": "stream",
     "text": [
      "3.0\n"
     ]
    }
   ],
   "source": [
    "out_height = (H + 2 * padding - field_height) / stride + 1\n",
    "print(out_height)\n"
   ]
  },
  {
   "cell_type": "code",
   "execution_count": 7,
   "metadata": {},
   "outputs": [
    {
     "name": "stdout",
     "output_type": "stream",
     "text": [
      "[0 1 2]\n"
     ]
    }
   ],
   "source": [
    "i0 = np.arange(field_height,dtype='int32')\n",
    "print(i0)"
   ]
  },
  {
   "cell_type": "code",
   "execution_count": 8,
   "metadata": {},
   "outputs": [
    {
     "name": "stdout",
     "output_type": "stream",
     "text": [
      "[0 1 2 0 1 2 0 1 2]\n"
     ]
    }
   ],
   "source": [
    "i0 = np.tile(i0, C)\n",
    "print(i0)"
   ]
  },
  {
   "cell_type": "code",
   "execution_count": 9,
   "metadata": {},
   "outputs": [
    {
     "name": "stdout",
     "output_type": "stream",
     "text": [
      "[0 0 0 1 1 1 2 2 2]\n"
     ]
    }
   ],
   "source": [
    "i1 = stride * np.repeat(np.arange(out_height ,dtype='int32'), out_height)\n",
    "print(i1)"
   ]
  },
  {
   "cell_type": "code",
   "execution_count": 10,
   "metadata": {},
   "outputs": [
    {
     "name": "stdout",
     "output_type": "stream",
     "text": [
      "[[0 0 0 1 1 1 2 2 2]\n",
      " [1 1 1 2 2 2 3 3 3]\n",
      " [2 2 2 3 3 3 4 4 4]\n",
      " [0 0 0 1 1 1 2 2 2]\n",
      " [1 1 1 2 2 2 3 3 3]\n",
      " [2 2 2 3 3 3 4 4 4]\n",
      " [0 0 0 1 1 1 2 2 2]\n",
      " [1 1 1 2 2 2 3 3 3]\n",
      " [2 2 2 3 3 3 4 4 4]]\n"
     ]
    }
   ],
   "source": [
    "i = i0.reshape(-1, 1) + i1.reshape(1, -1)\n",
    "print(i)"
   ]
  },
  {
   "cell_type": "code",
   "execution_count": 11,
   "metadata": {},
   "outputs": [
    {
     "name": "stdout",
     "output_type": "stream",
     "text": [
      "[[0]\n",
      " [0]\n",
      " [0]\n",
      " [1]\n",
      " [1]\n",
      " [1]\n",
      " [2]\n",
      " [2]\n",
      " [2]]\n"
     ]
    }
   ],
   "source": [
    "k = np.repeat(np.arange(C,dtype='int32'), field_height).reshape(-1, 1)\n",
    "print(k)"
   ]
  },
  {
   "cell_type": "code",
   "execution_count": 12,
   "metadata": {},
   "outputs": [
    {
     "name": "stdout",
     "output_type": "stream",
     "text": [
      "[[[0 0 0 1 1 1 2 2 2]\n",
      "  [1 1 1 2 2 2 3 3 3]\n",
      "  [2 2 2 3 3 3 0 0 0]\n",
      "  [0 0 0 4 4 4 5 5 5]\n",
      "  [4 4 4 5 5 5 6 6 6]\n",
      "  [5 5 5 6 6 6 0 0 0]\n",
      "  [0 0 0 7 7 7 8 8 8]\n",
      "  [7 7 7 8 8 8 9 9 9]\n",
      "  [8 8 8 9 9 9 0 0 0]]\n",
      "\n",
      " [[0 0 0 1 1 1 2 2 2]\n",
      "  [1 1 1 2 2 2 3 3 3]\n",
      "  [2 2 2 3 3 3 0 0 0]\n",
      "  [0 0 0 4 4 4 5 5 5]\n",
      "  [4 4 4 5 5 5 6 6 6]\n",
      "  [5 5 5 6 6 6 0 0 0]\n",
      "  [0 0 0 7 7 7 8 8 8]\n",
      "  [7 7 7 8 8 8 9 9 9]\n",
      "  [8 8 8 9 9 9 0 0 0]]]\n"
     ]
    }
   ],
   "source": [
    "cols = x_padded[:, k, i]\n",
    "print(cols)"
   ]
  },
  {
   "cell_type": "code",
   "execution_count": 14,
   "metadata": {},
   "outputs": [
    {
     "name": "stdout",
     "output_type": "stream",
     "text": [
      "[[0 0 1 1 2 2 0 0 4 4 5 5 0 0 7 7 8 8]\n",
      " [0 0 1 1 2 2 0 0 4 4 5 5 0 0 7 7 8 8]\n",
      " [0 0 1 1 2 2 0 0 4 4 5 5 0 0 7 7 8 8]\n",
      " [1 1 2 2 3 3 4 4 5 5 6 6 7 7 8 8 9 9]\n",
      " [1 1 2 2 3 3 4 4 5 5 6 6 7 7 8 8 9 9]\n",
      " [1 1 2 2 3 3 4 4 5 5 6 6 7 7 8 8 9 9]\n",
      " [2 2 3 3 0 0 5 5 6 6 0 0 8 8 9 9 0 0]\n",
      " [2 2 3 3 0 0 5 5 6 6 0 0 8 8 9 9 0 0]\n",
      " [2 2 3 3 0 0 5 5 6 6 0 0 8 8 9 9 0 0]]\n"
     ]
    }
   ],
   "source": [
    "C = x.shape[1]\n",
    "cols = cols.transpose().reshape( field_height * C, -1)\n",
    "print(cols)"
   ]
  },
  {
   "cell_type": "code",
   "execution_count": null,
   "metadata": {},
   "outputs": [],
   "source": [
    "x = np.arange(10)\n",
    "choicelist = [x, x**2]\n",
    "print(choicelist)"
   ]
  },
  {
   "cell_type": "code",
   "execution_count": null,
   "metadata": {},
   "outputs": [],
   "source": [
    "condlist = [x>=5, x>=5]\n",
    "print(condlist)\n",
    "y = np.select(condlist, choicelist)\n",
    "print(y)"
   ]
  },
  {
   "cell_type": "code",
   "execution_count": null,
   "metadata": {},
   "outputs": [],
   "source": [
    "d = x_padded[:,choicelist]\n",
    "print(d)"
   ]
  },
  {
   "cell_type": "code",
   "execution_count": null,
   "metadata": {},
   "outputs": [],
   "source": []
  }
 ],
 "metadata": {
  "kernelspec": {
   "display_name": "Python 3",
   "language": "python",
   "name": "python3"
  },
  "language_info": {
   "codemirror_mode": {
    "name": "ipython",
    "version": 3
   },
   "file_extension": ".py",
   "mimetype": "text/x-python",
   "name": "python",
   "nbconvert_exporter": "python",
   "pygments_lexer": "ipython3",
   "version": "3.6.7"
  }
 },
 "nbformat": 4,
 "nbformat_minor": 2
}
