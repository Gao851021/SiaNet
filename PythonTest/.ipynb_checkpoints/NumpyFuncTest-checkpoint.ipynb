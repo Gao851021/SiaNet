{
 "cells": [
  {
   "cell_type": "code",
   "execution_count": 6,
   "metadata": {},
   "outputs": [
    {
     "name": "stderr",
     "output_type": "stream",
     "text": [
      "Using TensorFlow backend.\n"
     ]
    }
   ],
   "source": [
    "import numpy as np\n",
    "import tensorflow as tf\n",
    "import keras\n",
    "import keras.backend as K"
   ]
  },
  {
   "cell_type": "code",
   "execution_count": 2,
   "metadata": {},
   "outputs": [
    {
     "name": "stdout",
     "output_type": "stream",
     "text": [
      "[[1 0 0 0 0 0 0 0 0]\n",
      " [0 2 0 0 0 0 0 0 0]\n",
      " [0 0 3 0 0 0 0 0 0]\n",
      " [0 0 0 4 0 0 0 0 0]\n",
      " [0 0 0 0 5 0 0 0 0]\n",
      " [0 0 0 0 0 6 0 0 0]\n",
      " [0 0 0 0 0 0 7 0 0]\n",
      " [0 0 0 0 0 0 0 8 0]\n",
      " [0 0 0 0 0 0 0 0 9]]\n"
     ]
    }
   ],
   "source": [
    "x = np.array([1,2,3,4,5,6,7,8,9])\n",
    "diag = np.diag(x)\n",
    "print(diag)"
   ]
  },
  {
   "cell_type": "code",
   "execution_count": 17,
   "metadata": {},
   "outputs": [
    {
     "name": "stdout",
     "output_type": "stream",
     "text": [
      "[[0.00426978 0.01160646 0.03154963 0.08576079 0.233122   0.6336913 ]\n",
      " [0.04501529 0.12236424 0.33262047 0.33262047 0.12236424 0.04501529]\n",
      " [0.6336913  0.233122   0.08576079 0.03154963 0.01160646 0.00426978]]\n",
      "[[ 0.0000000e+00 -0.0000000e+00 -0.0000000e+00  0.0000000e+00\n",
      "  -0.0000000e+00 -0.0000000e+00]\n",
      " [ 0.0000000e+00  0.0000000e+00 -0.0000000e+00  0.0000000e+00\n",
      "  -0.0000000e+00 -0.0000000e+00]\n",
      " [ 7.5541891e-08 -4.1685464e-08 -2.0446967e-08  9.4025232e-09\n",
      "   2.7671960e-09 -1.2724931e-09]]\n"
     ]
    }
   ],
   "source": [
    "x = np.array([1,2,3,4,5,6,7,8,9,9,8,7,6,5,4,3,2,1])\n",
    "x = x.reshape(3,6)\n",
    "x = K.variable(x)\n",
    "\n",
    "y = K.softmax(x)\n",
    "print(K.eval(y))\n",
    "\n",
    "dy = K.variable(np.array([1, -1, -2, 2, -3, -4, 5, 4, -5, 1, -1, -2, 2, -3, -4, 5, 4, -5]).reshape(3, -1))\n",
    "grad = dy * K.gradients(y, x)\n",
    "\n",
    "print(K.eval(grad[0]))\n"
   ]
  },
  {
   "cell_type": "code",
   "execution_count": 37,
   "metadata": {},
   "outputs": [],
   "source": [
    "def softmax_grad(s):\n",
    "    # input s is softmax value of the original input x. Its shape is (1,n) \n",
    "    # i.e.  s = np.array([0.3,0.7]),  x = np.array([0,1])\n",
    "    s = K.eval(K.softmax(K.variable(s)))\n",
    "    //s = s.reshape(-1,1)\n",
    "    return np.diag(s) - np.dot(s, s.T)"
   ]
  },
  {
   "cell_type": "code",
   "execution_count": 38,
   "metadata": {},
   "outputs": [
    {
     "ename": "ValueError",
     "evalue": "operands could not be broadcast together with shapes (3,6) (18,18) ",
     "output_type": "error",
     "traceback": [
      "\u001b[1;31m---------------------------------------------------------------------------\u001b[0m",
      "\u001b[1;31mValueError\u001b[0m                                Traceback (most recent call last)",
      "\u001b[1;32m<ipython-input-38-a53916799cec>\u001b[0m in \u001b[0;36m<module>\u001b[1;34m\u001b[0m\n\u001b[0;32m      3\u001b[0m \u001b[0mdy1\u001b[0m \u001b[1;33m=\u001b[0m \u001b[0mnp\u001b[0m\u001b[1;33m.\u001b[0m\u001b[0marray\u001b[0m\u001b[1;33m(\u001b[0m\u001b[1;33m[\u001b[0m\u001b[1;36m1\u001b[0m\u001b[1;33m,\u001b[0m \u001b[1;33m-\u001b[0m\u001b[1;36m1\u001b[0m\u001b[1;33m,\u001b[0m \u001b[1;33m-\u001b[0m\u001b[1;36m2\u001b[0m\u001b[1;33m,\u001b[0m \u001b[1;36m2\u001b[0m\u001b[1;33m,\u001b[0m \u001b[1;33m-\u001b[0m\u001b[1;36m3\u001b[0m\u001b[1;33m,\u001b[0m \u001b[1;33m-\u001b[0m\u001b[1;36m4\u001b[0m\u001b[1;33m,\u001b[0m \u001b[1;36m5\u001b[0m\u001b[1;33m,\u001b[0m \u001b[1;36m4\u001b[0m\u001b[1;33m,\u001b[0m \u001b[1;33m-\u001b[0m\u001b[1;36m5\u001b[0m\u001b[1;33m,\u001b[0m \u001b[1;36m1\u001b[0m\u001b[1;33m,\u001b[0m \u001b[1;33m-\u001b[0m\u001b[1;36m1\u001b[0m\u001b[1;33m,\u001b[0m \u001b[1;33m-\u001b[0m\u001b[1;36m2\u001b[0m\u001b[1;33m,\u001b[0m \u001b[1;36m2\u001b[0m\u001b[1;33m,\u001b[0m \u001b[1;33m-\u001b[0m\u001b[1;36m3\u001b[0m\u001b[1;33m,\u001b[0m \u001b[1;33m-\u001b[0m\u001b[1;36m4\u001b[0m\u001b[1;33m,\u001b[0m \u001b[1;36m5\u001b[0m\u001b[1;33m,\u001b[0m \u001b[1;36m4\u001b[0m\u001b[1;33m,\u001b[0m \u001b[1;33m-\u001b[0m\u001b[1;36m5\u001b[0m\u001b[1;33m]\u001b[0m\u001b[1;33m)\u001b[0m\u001b[1;33m\u001b[0m\u001b[1;33m\u001b[0m\u001b[0m\n\u001b[0;32m      4\u001b[0m \u001b[0mdy1\u001b[0m \u001b[1;33m=\u001b[0m \u001b[0mdy1\u001b[0m\u001b[1;33m.\u001b[0m\u001b[0mreshape\u001b[0m\u001b[1;33m(\u001b[0m\u001b[1;36m3\u001b[0m\u001b[1;33m,\u001b[0m \u001b[1;33m-\u001b[0m\u001b[1;36m1\u001b[0m\u001b[1;33m)\u001b[0m\u001b[1;33m\u001b[0m\u001b[1;33m\u001b[0m\u001b[0m\n\u001b[1;32m----> 5\u001b[1;33m \u001b[0mgrad1\u001b[0m \u001b[1;33m=\u001b[0m \u001b[0mdy1\u001b[0m \u001b[1;33m*\u001b[0m \u001b[0msoftmax_grad\u001b[0m\u001b[1;33m(\u001b[0m\u001b[0mx\u001b[0m\u001b[1;33m)\u001b[0m\u001b[1;33m\u001b[0m\u001b[1;33m\u001b[0m\u001b[0m\n\u001b[0m\u001b[0;32m      6\u001b[0m \u001b[0mprint\u001b[0m\u001b[1;33m(\u001b[0m\u001b[0mgrad1\u001b[0m\u001b[1;33m)\u001b[0m\u001b[1;33m\u001b[0m\u001b[1;33m\u001b[0m\u001b[0m\n",
      "\u001b[1;31mValueError\u001b[0m: operands could not be broadcast together with shapes (3,6) (18,18) "
     ]
    }
   ],
   "source": [
    "x = np.array([1,2,3,4,5,6,7,8,9,9,8,7,6,5,4,3,2,1])\n",
    "x = x.reshape(3,6)\n",
    "dy1 = np.array([1, -1, -2, 2, -3, -4, 5, 4, -5, 1, -1, -2, 2, -3, -4, 5, 4, -5])\n",
    "dy1 = dy1.reshape(3, -1)\n",
    "grad1 = dy1 * softmax_grad(x)\n",
    "print(grad1)"
   ]
  },
  {
   "cell_type": "code",
   "execution_count": null,
   "metadata": {},
   "outputs": [],
   "source": []
  }
 ],
 "metadata": {
  "kernelspec": {
   "display_name": "Python 3",
   "language": "python",
   "name": "python3"
  },
  "language_info": {
   "codemirror_mode": {
    "name": "ipython",
    "version": 3
   },
   "file_extension": ".py",
   "mimetype": "text/x-python",
   "name": "python",
   "nbconvert_exporter": "python",
   "pygments_lexer": "ipython3",
   "version": "3.6.8"
  }
 },
 "nbformat": 4,
 "nbformat_minor": 2
}
