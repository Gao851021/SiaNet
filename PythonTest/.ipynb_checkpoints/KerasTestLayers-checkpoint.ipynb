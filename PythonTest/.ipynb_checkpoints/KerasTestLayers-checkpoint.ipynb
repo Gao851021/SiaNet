{
 "cells": [
  {
   "cell_type": "code",
   "execution_count": 1,
   "metadata": {},
   "outputs": [
    {
     "name": "stderr",
     "output_type": "stream",
     "text": [
      "Using TensorFlow backend.\n"
     ]
    }
   ],
   "source": [
    "import keras\n",
    "import numpy as np\n",
    "from keras import backend as K"
   ]
  },
  {
   "cell_type": "code",
   "execution_count": 17,
   "metadata": {},
   "outputs": [
    {
     "name": "stdout",
     "output_type": "stream",
     "text": [
      "[[ 1.0973201   0.8446462   1.9447145 ]\n",
      " [ 3.9373975   1.408174    5.0689015 ]\n",
      " [-8.819117    0.23777318  6.246998  ]]\n",
      "[[-1.2767317  -0.08764791 -1.6231022 ]\n",
      " [-2.5534635  -0.26294374 -3.2462044 ]\n",
      " [-6.3836584   0.35059166 -4.0577555 ]]\n"
     ]
    }
   ],
   "source": [
    "x = np.array([-1, 2, 3, -4, 5, 6, 7, -8, 9]);\n",
    "x = x.reshape(-1, 3);\n",
    "x = K.variable(x)\n",
    "\n",
    "grad = np.array([1, -1, -2, 2, -3, -4, 5, 4, -5]);\n",
    "grad = grad.reshape(-1, 3);\n",
    "grad = K.variable(grad)\n",
    "\n",
    "l = keras.layers.Dense(units=3, activation=None, use_bias=True, kernel_initializer='ones', bias_initializer='zeros', kernel_regularizer=None, bias_regularizer=None, activity_regularizer=None, kernel_constraint=None, bias_constraint=None)\n",
    "l.build((3,3))\n",
    "y = l.call(x)\n",
    "print(K.eval(y))\n",
    "\n",
    "grads = grad * K.gradients(y, x)\n",
    "print(K.eval(grads[0]))"
   ]
  },
  {
   "cell_type": "code",
   "execution_count": null,
   "metadata": {},
   "outputs": [],
   "source": []
  }
 ],
 "metadata": {
  "kernelspec": {
   "display_name": "Python 3",
   "language": "python",
   "name": "python3"
  },
  "language_info": {
   "codemirror_mode": {
    "name": "ipython",
    "version": 3
   },
   "file_extension": ".py",
   "mimetype": "text/x-python",
   "name": "python",
   "nbconvert_exporter": "python",
   "pygments_lexer": "ipython3",
   "version": "3.6.7"
  }
 },
 "nbformat": 4,
 "nbformat_minor": 2
}
