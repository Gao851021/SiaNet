{
 "cells": [
  {
   "cell_type": "code",
   "execution_count": 57,
   "metadata": {},
   "outputs": [],
   "source": [
    "import keras\n",
    "import numpy as np\n",
    "from keras import backend as K\n",
    "import tensorflow as tf"
   ]
  },
  {
   "cell_type": "code",
   "execution_count": 80,
   "metadata": {},
   "outputs": [
    {
     "name": "stdout",
     "output_type": "stream",
     "text": [
      "[[-1.1113307  2.101402   3.152103 ]\n",
      " [-1.7258987  5.253505   6.304206 ]\n",
      " [ 7.354907  -1.7575095  9.456309 ]]\n",
      "[[-7.1877384e-01  2.2079453e+00  3.3119178e+00]\n",
      " [-5.5575091e-02  5.5198631e+00  6.6238356e+00]\n",
      " [ 7.7278085e+00 -1.0365143e-03  9.9357538e+00]]\n"
     ]
    }
   ],
   "source": [
    "x = np.array([-1,2,3,-4,5,6,7,-8,9]);\n",
    "x = x.reshape(3, -1);\n",
    "x = K.variable(x)\n",
    "y = keras.activations.selu(x)\n",
    "print(K.eval(y))\n",
    "\n",
    "der = y * K.gradients(y, x)\n",
    "print(K.eval(der[0]))"
   ]
  },
  {
   "cell_type": "code",
   "execution_count": 54,
   "metadata": {},
   "outputs": [],
   "source": [
    "X = np.array([1,2,3,4,5,6,7,8,9]);\n",
    "X = X.reshape(3, -1);\n",
    "W = np.ones((3, 6))\n",
    "b = np.ones((1, 6))\n",
    "def forward(X):\n",
    "    out = X @ W + b\n",
    "    return out\n",
    "\n",
    "def backward(dout):\n",
    "    dW = X.T @ dout\n",
    "    db = np.sum(dout, axis=0)\n",
    "    dX = dout @ W.T\n",
    "    return dX, dW, db"
   ]
  },
  {
   "cell_type": "code",
   "execution_count": 55,
   "metadata": {},
   "outputs": [
    {
     "name": "stdout",
     "output_type": "stream",
     "text": [
      "[[ 7.  7.  7.  7.  7.  7.]\n",
      " [16. 16. 16. 16. 16. 16.]\n",
      " [25. 25. 25. 25. 25. 25.]]\n"
     ]
    }
   ],
   "source": [
    "Y = forward(X)\n",
    "print(Y)"
   ]
  },
  {
   "cell_type": "code",
   "execution_count": 56,
   "metadata": {},
   "outputs": [
    {
     "name": "stdout",
     "output_type": "stream",
     "text": [
      "[[ 42.  42.  42.]\n",
      " [ 96.  96.  96.]\n",
      " [150. 150. 150.]]\n",
      "[[246. 246. 246. 246. 246. 246.]\n",
      " [294. 294. 294. 294. 294. 294.]\n",
      " [342. 342. 342. 342. 342. 342.]]\n",
      "[48. 48. 48. 48. 48. 48.]\n"
     ]
    }
   ],
   "source": [
    "dX, dW, db = backward(Y)\n",
    "print(dX)\n",
    "print(dW)\n",
    "print(db)"
   ]
  },
  {
   "cell_type": "code",
   "execution_count": null,
   "metadata": {},
   "outputs": [],
   "source": []
  }
 ],
 "metadata": {
  "kernelspec": {
   "display_name": "Python 3",
   "language": "python",
   "name": "python3"
  },
  "language_info": {
   "codemirror_mode": {
    "name": "ipython",
    "version": 3
   },
   "file_extension": ".py",
   "mimetype": "text/x-python",
   "name": "python",
   "nbconvert_exporter": "python",
   "pygments_lexer": "ipython3",
   "version": "3.6.7"
  }
 },
 "nbformat": 4,
 "nbformat_minor": 2
}
