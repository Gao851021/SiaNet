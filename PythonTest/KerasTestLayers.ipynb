{
 "cells": [
  {
   "cell_type": "code",
   "execution_count": 1,
   "metadata": {},
   "outputs": [
    {
     "name": "stderr",
     "output_type": "stream",
     "text": [
      "Using TensorFlow backend.\n"
     ]
    }
   ],
   "source": [
    "import keras\n",
    "import numpy as np\n",
    "from keras import backend as K"
   ]
  },
  {
   "cell_type": "code",
   "execution_count": 8,
   "metadata": {},
   "outputs": [
    {
     "name": "stdout",
     "output_type": "stream",
     "text": [
      "[[4.6701608e-03 1.2694813e-02 3.4508079e-02 3.1467298e-05 2.5498214e-01\n",
      "  6.9311333e-01]\n",
      " [7.4862996e-08 2.4472843e-01 1.0131604e-08 6.6524082e-01 2.7540555e-08\n",
      "  9.0030551e-02]\n",
      " [6.9592357e-01 2.5601599e-01 3.1594882e-05 3.4647994e-02 1.2746285e-02\n",
      "  6.3460018e-04]\n",
      " [4.2697783e-03 1.1606461e-02 3.1549633e-02 8.5760795e-02 2.3312201e-01\n",
      "  6.3369131e-01]\n",
      " [4.1134900e-08 1.3447070e-01 3.6552927e-01 3.6552927e-01 1.3447070e-01\n",
      "  4.1134900e-08]\n",
      " [6.9311333e-01 2.5498214e-01 3.1467298e-05 3.4508079e-02 1.2694813e-02\n",
      "  4.6701608e-03]]\n",
      "[[0.0000000e+00 0.0000000e+00 0.0000000e+00 0.0000000e+00 0.0000000e+00\n",
      "  0.0000000e+00]\n",
      " [8.9243645e-15 2.9173902e-08 1.2077813e-15 7.9302886e-08 3.2830900e-15\n",
      "  1.0732478e-08]\n",
      " [0.0000000e+00 0.0000000e+00 0.0000000e+00 0.0000000e+00 0.0000000e+00\n",
      "  0.0000000e+00]\n",
      " [0.0000000e+00 0.0000000e+00 0.0000000e+00 0.0000000e+00 0.0000000e+00\n",
      "  0.0000000e+00]\n",
      " [0.0000000e+00 0.0000000e+00 0.0000000e+00 0.0000000e+00 0.0000000e+00\n",
      "  0.0000000e+00]\n",
      " [0.0000000e+00 0.0000000e+00 0.0000000e+00 0.0000000e+00 0.0000000e+00\n",
      "  0.0000000e+00]]\n"
     ]
    }
   ],
   "source": [
    "x = np.array([ 1, 2, 3, -4, 5, 6, -7, 8, -9, 9, -8, 7, 6, 5, -4, 3, 2, -1, 1, 2, 3, 4, 5, 6, -7, 8, 9, 9, 8, -7, 6, 5, -4, 3, 2, 1]);\n",
    "x = x.reshape(6, 6);\n",
    "x = K.variable(x)\n",
    "\n",
    "y = keras.activations.softmax(x)\n",
    "print(K.eval(y))\n",
    "\n",
    "grad = K.gradients(y, x)\n",
    "print(K.eval(grad[0]))\n"
   ]
  },
  {
   "cell_type": "code",
   "execution_count": 4,
   "metadata": {},
   "outputs": [
    {
     "name": "stdout",
     "output_type": "stream",
     "text": [
      "Collecting theano\n",
      "  Downloading https://files.pythonhosted.org/packages/7d/c4/6341148ad458b6cd8361b774d7ee6895c38eab88f05331f22304c484ed5d/Theano-1.0.4.tar.gz (2.8MB)\n",
      "Requirement already satisfied: numpy>=1.9.1 in c:\\programdata\\anaconda3\\lib\\site-packages (from theano) (1.15.1)\n",
      "Requirement already satisfied: scipy>=0.14 in c:\\programdata\\anaconda3\\lib\\site-packages (from theano) (1.1.0)\n",
      "Requirement already satisfied: six>=1.9.0 in c:\\programdata\\anaconda3\\lib\\site-packages (from theano) (1.11.0)\n",
      "Building wheels for collected packages: theano\n",
      "  Running setup.py bdist_wheel for theano: started\n",
      "  Running setup.py bdist_wheel for theano: finished with status 'done'\n",
      "  Stored in directory: C:\\Users\\deepa\\AppData\\Local\\pip\\Cache\\wheels\\88\\fb\\be\\483910ff7e9f703f30a10605ad7605f3316493875c86637014\n",
      "Successfully built theano\n",
      "Installing collected packages: theano\n",
      "Successfully installed theano-1.0.4\n"
     ]
    },
    {
     "name": "stderr",
     "output_type": "stream",
     "text": [
      "You are using pip version 18.1, however version 19.0.1 is available.\n",
      "You should consider upgrading via the 'python -m pip install --upgrade pip' command.\n"
     ]
    }
   ],
   "source": [
    "!pip install theano"
   ]
  },
  {
   "cell_type": "code",
   "execution_count": null,
   "metadata": {},
   "outputs": [],
   "source": []
  }
 ],
 "metadata": {
  "kernelspec": {
   "display_name": "Python 3",
   "language": "python",
   "name": "python3"
  },
  "language_info": {
   "codemirror_mode": {
    "name": "ipython",
    "version": 3
   },
   "file_extension": ".py",
   "mimetype": "text/x-python",
   "name": "python",
   "nbconvert_exporter": "python",
   "pygments_lexer": "ipython3",
   "version": "3.6.8"
  }
 },
 "nbformat": 4,
 "nbformat_minor": 2
}
