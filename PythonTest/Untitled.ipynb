{
 "cells": [
  {
   "cell_type": "code",
   "execution_count": 1,
   "metadata": {},
   "outputs": [],
   "source": [
    "import numpy as np"
   ]
  },
  {
   "cell_type": "code",
   "execution_count": 30,
   "metadata": {},
   "outputs": [],
   "source": [
    "def get_im2col_indices(x_shape, field_height=3, field_width=3, padding=1, stride=1):\n",
    "  # First figure out what the size of the output should be\n",
    "  N, C, H, W = x_shape\n",
    "  assert (H + 2 * padding - field_height) % stride == 0\n",
    "  assert (W + 2 * padding - field_height) % stride == 0\n",
    "  out_height = (H + 2 * padding - field_height) / stride + 1\n",
    "  out_width = (W + 2 * padding - field_width) / stride + 1\n",
    "\n",
    "  i0 = np.repeat(np.arange(field_height,dtype='int32'), field_width)\n",
    "  i0 = np.tile(i0, C)\n",
    "  i1 = stride * np.repeat(np.arange(out_height,dtype='int32'), out_width)\n",
    "  j0 = np.tile(np.arange(field_width), field_height * C)\n",
    "  j1 = stride * np.tile(np.arange(out_width,dtype='int32'), int(out_height))\n",
    "  i = i0.reshape(-1, 1) + i1.reshape(1, -1)\n",
    "  j = j0.reshape(-1, 1) + j1.reshape(1, -1)\n",
    "\n",
    "  k = np.repeat(np.arange(C,dtype='int32'), field_height * field_width).reshape(-1, 1)\n",
    "\n",
    "  return (k, i, j)"
   ]
  },
  {
   "cell_type": "code",
   "execution_count": 31,
   "metadata": {},
   "outputs": [],
   "source": [
    "def im2col_indices(x, field_height=3, field_width=3, padding=1, stride=1):\n",
    "  \"\"\" An implementation of im2col based on some fancy indexing \"\"\"\n",
    "  # Zero-pad the input\n",
    "  p = padding\n",
    "  x_padded = np.pad(x, ((0, 0), (0, 0), (p, p), (p, p)), mode='constant')\n",
    "\n",
    "  k, i, j = get_im2col_indices(x.shape, field_height, field_width, padding,\n",
    "                               stride)\n",
    "\n",
    "  cols = x_padded[:, k, i, j]\n",
    "  C = x.shape[1]\n",
    "  cols = cols.transpose(1, 2, 0).reshape(field_height * field_width * C, -1)\n",
    "  return cols\n"
   ]
  },
  {
   "cell_type": "code",
   "execution_count": 32,
   "metadata": {},
   "outputs": [],
   "source": [
    "def col2im_indices(cols, x_shape, field_height=3, field_width=3, padding=1,\n",
    "                   stride=1):\n",
    "  \"\"\" An implementation of col2im based on fancy indexing and np.add.at \"\"\"\n",
    "  N, C, H, W = x_shape\n",
    "  H_padded, W_padded = H + 2 * padding, W + 2 * padding\n",
    "  x_padded = np.zeros((N, C, H_padded, W_padded), dtype=cols.dtype)\n",
    "  k, i, j = get_im2col_indices(x_shape, field_height, field_width, padding,\n",
    "                               stride)\n",
    "  cols_reshaped = cols.reshape(C * field_height * field_width, -1, N)\n",
    "  cols_reshaped = cols_reshaped.transpose(2, 0, 1)\n",
    "  np.add.at(x_padded, (slice(None), k, i, j), cols_reshaped)\n",
    "  if padding == 0:\n",
    "    return x_padded\n",
    "  return x_padded[:, :, padding:-padding, padding:-padding]\n"
   ]
  },
  {
   "cell_type": "code",
   "execution_count": 37,
   "metadata": {},
   "outputs": [
    {
     "name": "stdout",
     "output_type": "stream",
     "text": [
      "[[[[1 2 3]\n",
      "   [4 5 6]\n",
      "   [7 8 9]]]]\n"
     ]
    }
   ],
   "source": [
    "x = np.array([1,2,3,4,5,6,7,8,9])\n",
    "x = x.reshape(1,1,3,3)\n",
    "print(x)"
   ]
  },
  {
   "cell_type": "code",
   "execution_count": 41,
   "metadata": {},
   "outputs": [
    {
     "name": "stdout",
     "output_type": "stream",
     "text": [
      "[[0 0 0 0 1 2 0 4 5]\n",
      " [0 0 0 1 2 3 4 5 6]\n",
      " [0 0 0 2 3 0 5 6 0]\n",
      " [0 1 2 0 4 5 0 7 8]\n",
      " [1 2 3 4 5 6 7 8 9]\n",
      " [2 3 0 5 6 0 8 9 0]\n",
      " [0 4 5 0 7 8 0 0 0]\n",
      " [4 5 6 7 8 9 0 0 0]\n",
      " [5 6 0 8 9 0 0 0 0]]\n"
     ]
    }
   ],
   "source": [
    "cols = im2col_indices(x, 3, 3, 1, 1)\n",
    "print(cols)"
   ]
  },
  {
   "cell_type": "code",
   "execution_count": null,
   "metadata": {},
   "outputs": [],
   "source": []
  }
 ],
 "metadata": {
  "kernelspec": {
   "display_name": "Python 3",
   "language": "python",
   "name": "python3"
  },
  "language_info": {
   "codemirror_mode": {
    "name": "ipython",
    "version": 3
   },
   "file_extension": ".py",
   "mimetype": "text/x-python",
   "name": "python",
   "nbconvert_exporter": "python",
   "pygments_lexer": "ipython3",
   "version": "3.7.0"
  }
 },
 "nbformat": 4,
 "nbformat_minor": 2
}
