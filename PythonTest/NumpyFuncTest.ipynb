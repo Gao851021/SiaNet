{
 "cells": [
  {
   "cell_type": "code",
   "execution_count": 6,
   "metadata": {},
   "outputs": [
    {
     "name": "stderr",
     "output_type": "stream",
     "text": [
      "Using TensorFlow backend.\n"
     ]
    }
   ],
   "source": [
    "import numpy as np\n",
    "import tensorflow as tf\n",
    "import keras\n",
    "import keras.backend as K"
   ]
  },
  {
   "cell_type": "code",
   "execution_count": 2,
   "metadata": {},
   "outputs": [
    {
     "name": "stdout",
     "output_type": "stream",
     "text": [
      "[[1 0 0 0 0 0 0 0 0]\n",
      " [0 2 0 0 0 0 0 0 0]\n",
      " [0 0 3 0 0 0 0 0 0]\n",
      " [0 0 0 4 0 0 0 0 0]\n",
      " [0 0 0 0 5 0 0 0 0]\n",
      " [0 0 0 0 0 6 0 0 0]\n",
      " [0 0 0 0 0 0 7 0 0]\n",
      " [0 0 0 0 0 0 0 8 0]\n",
      " [0 0 0 0 0 0 0 0 9]]\n"
     ]
    }
   ],
   "source": [
    "x = np.array([1,2,3,4,5,6,7,8,9])\n",
    "diag = np.diag(x)\n",
    "print(diag)"
   ]
  },
  {
   "cell_type": "code",
   "execution_count": 17,
   "metadata": {},
   "outputs": [
    {
     "name": "stdout",
     "output_type": "stream",
     "text": [
      "[[0.00426978 0.01160646 0.03154963 0.08576079 0.233122   0.6336913 ]\n",
      " [0.04501529 0.12236424 0.33262047 0.33262047 0.12236424 0.04501529]\n",
      " [0.6336913  0.233122   0.08576079 0.03154963 0.01160646 0.00426978]]\n",
      "[[ 0.0000000e+00 -0.0000000e+00 -0.0000000e+00  0.0000000e+00\n",
      "  -0.0000000e+00 -0.0000000e+00]\n",
      " [ 0.0000000e+00  0.0000000e+00 -0.0000000e+00  0.0000000e+00\n",
      "  -0.0000000e+00 -0.0000000e+00]\n",
      " [ 7.5541891e-08 -4.1685464e-08 -2.0446967e-08  9.4025232e-09\n",
      "   2.7671960e-09 -1.2724931e-09]]\n"
     ]
    }
   ],
   "source": [
    "x = np.array([1,2,3,4,5,6,7,8,9,9,8,7,6,5,4,3,2,1])\n",
    "x = x.reshape(3,6)\n",
    "x = K.variable(x)\n",
    "\n",
    "y = K.softmax(x)\n",
    "print(K.eval(y))\n",
    "\n",
    "dy = K.variable(np.array([1, -1, -2, 2, -3, -4, 5, 4, -5, 1, -1, -2, 2, -3, -4, 5, 4, -5]).reshape(3, -1))\n",
    "grad = dy * K.gradients(y, x)\n",
    "\n",
    "print(K.eval(grad[0]))\n"
   ]
  },
  {
   "cell_type": "code",
   "execution_count": 52,
   "metadata": {},
   "outputs": [],
   "source": [
    "def softmax_grad(s):\n",
    "    # input s is softmax value of the original input x. Its shape is (1,n) \n",
    "    # i.e.  s = np.array([0.3,0.7]),  x = np.array([0,1])\n",
    "    s = K.eval(K.softmax(K.variable(s)))\n",
    "    s = s.reshape(-1,1)\n",
    "    print(np.diagflat(s).shape)\n",
    "    return np.diagflat(s) - np.dot(s, s.T)"
   ]
  },
  {
   "cell_type": "code",
   "execution_count": 53,
   "metadata": {},
   "outputs": [
    {
     "name": "stdout",
     "output_type": "stream",
     "text": [
      "(18, 18)\n",
      "[[-0.00853956  0.02321292  0.12619853 -0.34304315  1.39873195  5.06953001]\n",
      " [-0.45015283 -0.9789139   3.32620442 -0.66524088  0.24472848  0.18006112]\n",
      " [-2.53476501  1.39873186  0.68608636 -0.31549633 -0.0928517   0.04269778]]\n"
     ]
    }
   ],
   "source": [
    "x = np.array([1,2,3,4,5,6,7,8,9,9,8,7,6,5,4,3,2,1])\n",
    "x = x.reshape(3,6)\n",
    "dy1 = np.array([1, -1, -2, 2, -3, -4, 5, 4, -5, 1, -1, -2, 2, -3, -4, 5, 4, -5])\n",
    "dy1 = dy1.reshape(3, -1)\n",
    "grad1 = dy1 * softmax_grad(x).sum(0).reshape(3, -1)\n",
    "print(grad1)"
   ]
  },
  {
   "cell_type": "code",
   "execution_count": null,
   "metadata": {},
   "outputs": [],
   "source": []
  }
 ],
 "metadata": {
  "kernelspec": {
   "display_name": "Python 3",
   "language": "python",
   "name": "python3"
  },
  "language_info": {
   "codemirror_mode": {
    "name": "ipython",
    "version": 3
   },
   "file_extension": ".py",
   "mimetype": "text/x-python",
   "name": "python",
   "nbconvert_exporter": "python",
   "pygments_lexer": "ipython3",
   "version": "3.6.8"
  }
 },
 "nbformat": 4,
 "nbformat_minor": 2
}
