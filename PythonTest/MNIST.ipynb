{
 "cells": [
  {
   "cell_type": "code",
   "execution_count": 1,
   "metadata": {},
   "outputs": [
    {
     "name": "stderr",
     "output_type": "stream",
     "text": [
      "Using TensorFlow backend.\n"
     ]
    }
   ],
   "source": [
    "import numpy\n",
    "from keras.datasets import mnist\n",
    "from keras.models import Sequential\n",
    "from keras.layers import Dense\n",
    "from keras.layers import Dropout\n",
    "from keras.utils import np_utils"
   ]
  },
  {
   "cell_type": "code",
   "execution_count": 2,
   "metadata": {},
   "outputs": [],
   "source": [
    "# fix random seed for reproducibility\n",
    "seed = 7\n",
    "numpy.random.seed(seed)"
   ]
  },
  {
   "cell_type": "code",
   "execution_count": 3,
   "metadata": {},
   "outputs": [],
   "source": [
    "# load data\n",
    "(X_train, y_train), (X_test, y_test) = mnist.load_data()"
   ]
  },
  {
   "cell_type": "code",
   "execution_count": 4,
   "metadata": {},
   "outputs": [],
   "source": [
    "# flatten 28*28 images to a 784 vector for each image\n",
    "num_pixels = X_train.shape[1] * X_train.shape[2]\n",
    "X_train = X_train.reshape(X_train.shape[0], num_pixels).astype('float32')\n",
    "X_test = X_test.reshape(X_test.shape[0], num_pixels).astype('float32')"
   ]
  },
  {
   "cell_type": "code",
   "execution_count": 5,
   "metadata": {},
   "outputs": [],
   "source": [
    "# normalize inputs from 0-255 to 0-1\n",
    "X_train = X_train / 255\n",
    "X_test = X_test / 255"
   ]
  },
  {
   "cell_type": "code",
   "execution_count": 6,
   "metadata": {},
   "outputs": [],
   "source": [
    "# one hot encode outputs\n",
    "y_train = np_utils.to_categorical(y_train)\n",
    "y_test = np_utils.to_categorical(y_test)\n",
    "num_classes = y_test.shape[1]"
   ]
  },
  {
   "cell_type": "code",
   "execution_count": 7,
   "metadata": {},
   "outputs": [],
   "source": [
    "# define baseline model\n",
    "def baseline_model():\n",
    "    # create model\n",
    "    model = Sequential()\n",
    "    model.add(Dense(128, input_dim=784, kernel_initializer='glorot_uniform', activation='sigmoid'))\n",
    "    model.add(Dense(64, kernel_initializer='glorot_uniform', activation='sigmoid'))\n",
    "    model.add(Dropout(0.5))\n",
    "    model.add(Dense(num_classes, activation='softmax'))\n",
    "    # Compile model\n",
    "    model.compile(loss='categorical_crossentropy', optimizer='sgd', metrics=['accuracy'])\n",
    "    return model"
   ]
  },
  {
   "cell_type": "code",
   "execution_count": 8,
   "metadata": {},
   "outputs": [
    {
     "name": "stdout",
     "output_type": "stream",
     "text": [
      "Train on 60000 samples, validate on 10000 samples\n",
      "Epoch 1/10\n",
      " - 47s - loss: 2.3145 - acc: 0.1447 - val_loss: 2.1310 - val_acc: 0.5372\n",
      "Epoch 2/10\n",
      " - 4s - loss: 2.0276 - acc: 0.2894 - val_loss: 1.6999 - val_acc: 0.6428\n",
      "Epoch 3/10\n",
      " - 4s - loss: 1.5906 - acc: 0.4543 - val_loss: 1.2188 - val_acc: 0.6950\n",
      "Epoch 4/10\n",
      " - 4s - loss: 1.2503 - acc: 0.5700 - val_loss: 0.9476 - val_acc: 0.7525\n",
      "Epoch 5/10\n",
      " - 4s - loss: 1.0465 - acc: 0.6468 - val_loss: 0.7870 - val_acc: 0.7984\n",
      "Epoch 6/10\n",
      " - 4s - loss: 0.9176 - acc: 0.6976 - val_loss: 0.6814 - val_acc: 0.8202\n",
      "Epoch 7/10\n",
      " - 4s - loss: 0.8254 - acc: 0.7333 - val_loss: 0.6116 - val_acc: 0.8347\n",
      "Epoch 8/10\n",
      " - 4s - loss: 0.7603 - acc: 0.7564 - val_loss: 0.5612 - val_acc: 0.8448\n",
      "Epoch 9/10\n",
      " - 4s - loss: 0.7116 - acc: 0.7776 - val_loss: 0.5242 - val_acc: 0.8531\n",
      "Epoch 10/10\n",
      " - 4s - loss: 0.6747 - acc: 0.7898 - val_loss: 0.4957 - val_acc: 0.8607\n",
      "Baseline Error: 13.93%\n"
     ]
    }
   ],
   "source": [
    "# build the model\n",
    "model = baseline_model()\n",
    "# Fit the model\n",
    "model.fit(X_train, y_train, validation_data=(X_test, y_test), epochs=10, batch_size=32, verbose=2)\n",
    "# Final evaluation of the model\n",
    "scores = model.evaluate(X_test, y_test, verbose=0)\n",
    "print(\"Baseline Error: %.2f%%\" % (100-scores[1]*100))"
   ]
  },
  {
   "cell_type": "code",
   "execution_count": null,
   "metadata": {},
   "outputs": [],
   "source": []
  }
 ],
 "metadata": {
  "kernelspec": {
   "display_name": "Python 3",
   "language": "python",
   "name": "python3"
  },
  "language_info": {
   "codemirror_mode": {
    "name": "ipython",
    "version": 3
   },
   "file_extension": ".py",
   "mimetype": "text/x-python",
   "name": "python",
   "nbconvert_exporter": "python",
   "pygments_lexer": "ipython3",
   "version": "3.6.6"
  }
 },
 "nbformat": 4,
 "nbformat_minor": 2
}
