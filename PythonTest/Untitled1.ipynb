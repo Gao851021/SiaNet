{
 "cells": [
  {
   "cell_type": "code",
   "execution_count": 1,
   "metadata": {},
   "outputs": [],
   "source": [
    "import numpy as np"
   ]
  },
  {
   "cell_type": "code",
   "execution_count": 22,
   "metadata": {},
   "outputs": [
    {
     "name": "stdout",
     "output_type": "stream",
     "text": [
      "[[[[1 2 3]\n",
      "   [4 5 6]\n",
      "   [7 8 9]]\n",
      "\n",
      "  [[1 2 3]\n",
      "   [4 5 6]\n",
      "   [7 8 9]]]]\n"
     ]
    }
   ],
   "source": [
    "x = np.array([1,2,3,4,5,6,7,8,9, 1,2,3,4,5,6,7,8,9])\n",
    "x = x.reshape(1,2,3,3)\n",
    "print(x)"
   ]
  },
  {
   "cell_type": "code",
   "execution_count": 23,
   "metadata": {},
   "outputs": [],
   "source": [
    "field_height=3\n",
    "field_width=3\n",
    "padding=1\n",
    "stride=1"
   ]
  },
  {
   "cell_type": "code",
   "execution_count": 24,
   "metadata": {},
   "outputs": [
    {
     "name": "stdout",
     "output_type": "stream",
     "text": [
      "[[[[0 0 0 0 0]\n",
      "   [0 1 2 3 0]\n",
      "   [0 4 5 6 0]\n",
      "   [0 7 8 9 0]\n",
      "   [0 0 0 0 0]]\n",
      "\n",
      "  [[0 0 0 0 0]\n",
      "   [0 1 2 3 0]\n",
      "   [0 4 5 6 0]\n",
      "   [0 7 8 9 0]\n",
      "   [0 0 0 0 0]]]]\n"
     ]
    }
   ],
   "source": [
    "p = padding\n",
    "x_padded = np.pad(x, ((0, 0), (0, 0), (p, p), (p, p)), mode='constant')\n",
    "print(x_padded)"
   ]
  },
  {
   "cell_type": "code",
   "execution_count": 25,
   "metadata": {},
   "outputs": [],
   "source": [
    "N, C, H, W = x.shape\n",
    "assert (H + 2 * padding - field_height) % stride == 0\n",
    "assert (W + 2 * padding - field_height) % stride == 0"
   ]
  },
  {
   "cell_type": "code",
   "execution_count": 26,
   "metadata": {},
   "outputs": [
    {
     "name": "stdout",
     "output_type": "stream",
     "text": [
      "3.0\n",
      "3.0\n"
     ]
    }
   ],
   "source": [
    "out_height = (H + 2 * padding - field_height) / stride + 1\n",
    "out_width = (W + 2 * padding - field_width) / stride + 1\n",
    "print(out_height)\n",
    "print(out_width)"
   ]
  },
  {
   "cell_type": "code",
   "execution_count": 27,
   "metadata": {},
   "outputs": [
    {
     "name": "stdout",
     "output_type": "stream",
     "text": [
      "[0 1 2]\n"
     ]
    }
   ],
   "source": [
    "i0 = np.arange(field_height,dtype='int32')\n",
    "print(i0)"
   ]
  },
  {
   "cell_type": "code",
   "execution_count": 28,
   "metadata": {},
   "outputs": [
    {
     "name": "stdout",
     "output_type": "stream",
     "text": [
      "[0 0 0 1 1 1 2 2 2]\n"
     ]
    }
   ],
   "source": [
    "i0 = np.repeat(i0, field_width)\n",
    "print(i0)"
   ]
  },
  {
   "cell_type": "code",
   "execution_count": 29,
   "metadata": {},
   "outputs": [
    {
     "name": "stdout",
     "output_type": "stream",
     "text": [
      "[0 0 0 1 1 1 2 2 2 0 0 0 1 1 1 2 2 2]\n"
     ]
    }
   ],
   "source": [
    "i0 = np.tile(i0, C)\n",
    "print(i0)"
   ]
  },
  {
   "cell_type": "code",
   "execution_count": 30,
   "metadata": {},
   "outputs": [
    {
     "name": "stdout",
     "output_type": "stream",
     "text": [
      "[0 0 0 1 1 1 2 2 2]\n"
     ]
    }
   ],
   "source": [
    "i1 = stride * np.repeat(np.arange(out_height,dtype='int32'), out_width)\n",
    "print(i1)"
   ]
  },
  {
   "cell_type": "code",
   "execution_count": 31,
   "metadata": {},
   "outputs": [
    {
     "name": "stdout",
     "output_type": "stream",
     "text": [
      "[0 1 2 0 1 2 0 1 2 0 1 2 0 1 2 0 1 2]\n"
     ]
    }
   ],
   "source": [
    "j0 = np.tile(np.arange(field_width), field_height * C)\n",
    "print(j0)"
   ]
  },
  {
   "cell_type": "code",
   "execution_count": 32,
   "metadata": {},
   "outputs": [
    {
     "name": "stdout",
     "output_type": "stream",
     "text": [
      "[0 1 2 0 1 2 0 1 2]\n"
     ]
    }
   ],
   "source": [
    "j1 = stride * np.tile(np.arange(out_width,dtype='int32'), int(out_height))\n",
    "print(j1)"
   ]
  },
  {
   "cell_type": "code",
   "execution_count": 33,
   "metadata": {},
   "outputs": [
    {
     "name": "stdout",
     "output_type": "stream",
     "text": [
      "[[0 0 0 1 1 1 2 2 2]\n",
      " [0 0 0 1 1 1 2 2 2]\n",
      " [0 0 0 1 1 1 2 2 2]\n",
      " [1 1 1 2 2 2 3 3 3]\n",
      " [1 1 1 2 2 2 3 3 3]\n",
      " [1 1 1 2 2 2 3 3 3]\n",
      " [2 2 2 3 3 3 4 4 4]\n",
      " [2 2 2 3 3 3 4 4 4]\n",
      " [2 2 2 3 3 3 4 4 4]\n",
      " [0 0 0 1 1 1 2 2 2]\n",
      " [0 0 0 1 1 1 2 2 2]\n",
      " [0 0 0 1 1 1 2 2 2]\n",
      " [1 1 1 2 2 2 3 3 3]\n",
      " [1 1 1 2 2 2 3 3 3]\n",
      " [1 1 1 2 2 2 3 3 3]\n",
      " [2 2 2 3 3 3 4 4 4]\n",
      " [2 2 2 3 3 3 4 4 4]\n",
      " [2 2 2 3 3 3 4 4 4]]\n"
     ]
    }
   ],
   "source": [
    "i = i0.reshape(-1, 1) + i1.reshape(1, -1)\n",
    "print(i)"
   ]
  },
  {
   "cell_type": "code",
   "execution_count": 34,
   "metadata": {},
   "outputs": [
    {
     "name": "stdout",
     "output_type": "stream",
     "text": [
      "[[0 1 2 0 1 2 0 1 2]\n",
      " [1 2 3 1 2 3 1 2 3]\n",
      " [2 3 4 2 3 4 2 3 4]\n",
      " [0 1 2 0 1 2 0 1 2]\n",
      " [1 2 3 1 2 3 1 2 3]\n",
      " [2 3 4 2 3 4 2 3 4]\n",
      " [0 1 2 0 1 2 0 1 2]\n",
      " [1 2 3 1 2 3 1 2 3]\n",
      " [2 3 4 2 3 4 2 3 4]\n",
      " [0 1 2 0 1 2 0 1 2]\n",
      " [1 2 3 1 2 3 1 2 3]\n",
      " [2 3 4 2 3 4 2 3 4]\n",
      " [0 1 2 0 1 2 0 1 2]\n",
      " [1 2 3 1 2 3 1 2 3]\n",
      " [2 3 4 2 3 4 2 3 4]\n",
      " [0 1 2 0 1 2 0 1 2]\n",
      " [1 2 3 1 2 3 1 2 3]\n",
      " [2 3 4 2 3 4 2 3 4]]\n"
     ]
    }
   ],
   "source": [
    "j = j0.reshape(-1, 1) + j1.reshape(1, -1)\n",
    "print(j)"
   ]
  },
  {
   "cell_type": "code",
   "execution_count": 35,
   "metadata": {},
   "outputs": [
    {
     "name": "stdout",
     "output_type": "stream",
     "text": [
      "[[0]\n",
      " [0]\n",
      " [0]\n",
      " [0]\n",
      " [0]\n",
      " [0]\n",
      " [0]\n",
      " [0]\n",
      " [0]\n",
      " [1]\n",
      " [1]\n",
      " [1]\n",
      " [1]\n",
      " [1]\n",
      " [1]\n",
      " [1]\n",
      " [1]\n",
      " [1]]\n"
     ]
    }
   ],
   "source": [
    "k = np.repeat(np.arange(C,dtype='int32'), field_height * field_width).reshape(-1, 1)\n",
    "print(k)"
   ]
  },
  {
   "cell_type": "code",
   "execution_count": 36,
   "metadata": {},
   "outputs": [
    {
     "name": "stdout",
     "output_type": "stream",
     "text": [
      "[[[0 0 0 0 1 2 0 4 5]\n",
      "  [0 0 0 1 2 3 4 5 6]\n",
      "  [0 0 0 2 3 0 5 6 0]\n",
      "  [0 1 2 0 4 5 0 7 8]\n",
      "  [1 2 3 4 5 6 7 8 9]\n",
      "  [2 3 0 5 6 0 8 9 0]\n",
      "  [0 4 5 0 7 8 0 0 0]\n",
      "  [4 5 6 7 8 9 0 0 0]\n",
      "  [5 6 0 8 9 0 0 0 0]\n",
      "  [0 0 0 0 1 2 0 4 5]\n",
      "  [0 0 0 1 2 3 4 5 6]\n",
      "  [0 0 0 2 3 0 5 6 0]\n",
      "  [0 1 2 0 4 5 0 7 8]\n",
      "  [1 2 3 4 5 6 7 8 9]\n",
      "  [2 3 0 5 6 0 8 9 0]\n",
      "  [0 4 5 0 7 8 0 0 0]\n",
      "  [4 5 6 7 8 9 0 0 0]\n",
      "  [5 6 0 8 9 0 0 0 0]]]\n"
     ]
    }
   ],
   "source": [
    "cols = x_padded[:, k, i, j]\n",
    "print(cols)"
   ]
  },
  {
   "cell_type": "code",
   "execution_count": 37,
   "metadata": {},
   "outputs": [
    {
     "name": "stdout",
     "output_type": "stream",
     "text": [
      "[[0 0 0 0 1 2 0 4 5]\n",
      " [0 0 0 1 2 3 4 5 6]\n",
      " [0 0 0 2 3 0 5 6 0]\n",
      " [0 1 2 0 4 5 0 7 8]\n",
      " [1 2 3 4 5 6 7 8 9]\n",
      " [2 3 0 5 6 0 8 9 0]\n",
      " [0 4 5 0 7 8 0 0 0]\n",
      " [4 5 6 7 8 9 0 0 0]\n",
      " [5 6 0 8 9 0 0 0 0]\n",
      " [0 0 0 0 1 2 0 4 5]\n",
      " [0 0 0 1 2 3 4 5 6]\n",
      " [0 0 0 2 3 0 5 6 0]\n",
      " [0 1 2 0 4 5 0 7 8]\n",
      " [1 2 3 4 5 6 7 8 9]\n",
      " [2 3 0 5 6 0 8 9 0]\n",
      " [0 4 5 0 7 8 0 0 0]\n",
      " [4 5 6 7 8 9 0 0 0]\n",
      " [5 6 0 8 9 0 0 0 0]]\n"
     ]
    }
   ],
   "source": [
    "C = x.shape[1]\n",
    "cols = cols.transpose(1, 2, 0).reshape(field_height * field_width * C, -1)\n",
    "print(cols)"
   ]
  },
  {
   "cell_type": "code",
   "execution_count": null,
   "metadata": {},
   "outputs": [],
   "source": []
  }
 ],
 "metadata": {
  "kernelspec": {
   "display_name": "Python 3",
   "language": "python",
   "name": "python3"
  },
  "language_info": {
   "codemirror_mode": {
    "name": "ipython",
    "version": 3
   },
   "file_extension": ".py",
   "mimetype": "text/x-python",
   "name": "python",
   "nbconvert_exporter": "python",
   "pygments_lexer": "ipython3",
   "version": "3.7.0"
  }
 },
 "nbformat": 4,
 "nbformat_minor": 2
}
